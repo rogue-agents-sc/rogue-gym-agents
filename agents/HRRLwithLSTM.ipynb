{
  "nbformat": 4,
  "nbformat_minor": 0,
  "metadata": {
    "colab": {
      "provenance": [],
      "gpuType": "T4"
    },
    "kernelspec": {
      "name": "python3",
      "display_name": "Python 3"
    },
    "language_info": {
      "name": "python"
    },
    "accelerator": "GPU"
  },
  "cells": [
    {
      "cell_type": "code",
      "execution_count": 5,
      "metadata": {
        "colab": {
          "base_uri": "https://localhost:8080/"
        },
        "id": "GzW9JM80OuCV",
        "outputId": "63d4a9ec-e825-4416-8127-f3d95d2eff3d"
      },
      "outputs": [
        {
          "output_type": "stream",
          "name": "stdout",
          "text": [
            "Mounted at /content/drive\n"
          ]
        }
      ],
      "source": [
        "from google.colab import drive\n",
        "drive.mount('/content/drive')"
      ]
    },
    {
      "cell_type": "code",
      "source": [
        "!mkdir -p /root/.ssh/\n",
        "!cp /content/drive/Shareddrives/CSCI\\ 567:\\ ML/deploy_keys/id_ed25519* /root/.ssh\n",
        "!ssh-keyscan github.com >> /root/.ssh/known_hosts\n",
        "!ssh -T git@github.com"
      ],
      "metadata": {
        "colab": {
          "base_uri": "https://localhost:8080/"
        },
        "id": "UYbwdd_iO5_S",
        "outputId": "fce7edff-ac28-4df8-c7e3-3377dd1f3784"
      },
      "execution_count": 6,
      "outputs": [
        {
          "output_type": "stream",
          "name": "stdout",
          "text": [
            "# github.com:22 SSH-2.0-babeld-756a9a22\n",
            "# github.com:22 SSH-2.0-babeld-756a9a22\n",
            "# github.com:22 SSH-2.0-babeld-756a9a22\n",
            "# github.com:22 SSH-2.0-babeld-756a9a22\n",
            "# github.com:22 SSH-2.0-babeld-756a9a22\n",
            "Hi rogue-agents-sc/rogue-gym! You've successfully authenticated, but GitHub does not provide shell access.\n"
          ]
        }
      ]
    },
    {
      "cell_type": "code",
      "source": [
        "!pip install /content/drive/Shareddrives/CSCI\\ 567:\\ ML/rogue-gym/rogue_gym-0.0.2-cp310-cp310-linux_x86_64.whl"
      ],
      "metadata": {
        "colab": {
          "base_uri": "https://localhost:8080/"
        },
        "id": "aUvjwKT8PASK",
        "outputId": "2af13456-adab-4b71-d3d4-c8b4543ef6bb"
      },
      "execution_count": 7,
      "outputs": [
        {
          "output_type": "stream",
          "name": "stdout",
          "text": [
            "Processing ./drive/Shareddrives/CSCI 567: ML/rogue-gym/rogue_gym-0.0.2-cp310-cp310-linux_x86_64.whl\n",
            "Requirement already satisfied: numpy in /usr/local/lib/python3.10/dist-packages (from rogue-gym==0.0.2) (1.23.5)\n",
            "Requirement already satisfied: gym in /usr/local/lib/python3.10/dist-packages (from rogue-gym==0.0.2) (0.25.2)\n",
            "Requirement already satisfied: cloudpickle>=1.2.0 in /usr/local/lib/python3.10/dist-packages (from gym->rogue-gym==0.0.2) (2.2.1)\n",
            "Requirement already satisfied: gym-notices>=0.0.4 in /usr/local/lib/python3.10/dist-packages (from gym->rogue-gym==0.0.2) (0.0.8)\n",
            "Installing collected packages: rogue-gym\n",
            "Successfully installed rogue-gym-0.0.2\n"
          ]
        }
      ]
    },
    {
      "cell_type": "code",
      "source": [
        "import torch\n",
        "import torch.nn as nn\n",
        "import torch.nn.functional as F\n",
        "import torch.optim as optim\n",
        "import numpy as np\n",
        "from rogue_gym.envs import RogueEnv\n",
        "\n",
        "def is_player_near_gold(matrix, player_symbol = '@', gold_symbol = '*'):\n",
        "    dungeon_boundaries = []\n",
        "    for i, row in enumerate(matrix):\n",
        "        for j, element in enumerate(row):\n",
        "            if element == '-' or element == '|':\n",
        "                dungeon_boundaries.append((i, j))\n",
        "\n",
        "    player_found = False\n",
        "    gold_found = False\n",
        "    for i, row in enumerate(matrix):\n",
        "        for j, element in enumerate(row):\n",
        "            if element == player_symbol:\n",
        "                player_found = True\n",
        "            elif element == gold_symbol:\n",
        "                gold_found = True\n",
        "\n",
        "            if player_found and gold_found:\n",
        "                break\n",
        "\n",
        "    return player_found and gold_found\n",
        "\n",
        "def process_strings_to_matrix(string_list):\n",
        "    max_length = max(len(s) for s in string_list)\n",
        "    matrix = [[' ' for _ in range(max_length)] for _ in range(len(string_list))]\n",
        "\n",
        "    for i, s in enumerate(string_list):\n",
        "        for j, char in enumerate(s):\n",
        "            matrix[i][j] = char\n",
        "\n",
        "    return matrix\n",
        "\n",
        "#symbols within rogue gym\n",
        "symbols = [\" \",\"@\",\"#\",\".\",\"-\",\"%\",\"+\",\"^\",\"!\",\"?\",\"]\",\")\",\"/\",\"*\",\":\",\"=\",\",\",\"|\"]\n",
        "\n",
        "symbol_to_index = {symbol: i for i, symbol in enumerate(symbols)}\n",
        "\n",
        "#one hot encode the symbols\n",
        "def symbols_to_one_hot(symbols, symbol_to_index):\n",
        "    num_symbols = len(symbol_to_index)\n",
        "    one_hot_matrix = np.zeros((len(symbols), num_symbols), dtype=int)\n",
        "    for i, row in enumerate(symbols):\n",
        "        for symbol in row:\n",
        "            one_hot_matrix[i, symbol_to_index[symbol]] = 1\n",
        "    return one_hot_matrix\n",
        "\n",
        "#Configuration for the Rogue-Gym environment\n",
        "CONFIG = {\n",
        "    \"width\": 32,\n",
        "    \"height\": 16,\n",
        "    \"seed_range\": [0, 40],\n",
        "    \"hide_dungeon\": True,\n",
        "    \"dungeon\": {\n",
        "        \"style\": \"rogue\",\n",
        "        \"room_num_x\": 2,\n",
        "        \"room_num_y\": 2,\n",
        "    },\n",
        "    \"enemies\": {\n",
        "        \"enemies\": [],\n",
        "    },\n",
        "}\n",
        "\n",
        "env = RogueEnv(max_steps=100, config_dict=CONFIG)\n",
        "rewards = 0\n",
        "\n",
        "class HighLevelPolicy(nn.Module):\n",
        "    def __init__(self, input_dim, hidden_dim, output_dim):\n",
        "        super(HighLevelPolicy, self).__init__()\n",
        "        self.lstm = nn.LSTM(input_dim + output_dim, hidden_dim, batch_first=True)\n",
        "        self.fc = nn.Linear(hidden_dim, output_dim)\n",
        "\n",
        "    def forward(self, x, prev_action_probs):\n",
        "        #combine the state with the previous action probabilities\n",
        "        x = torch.cat([x, prev_action_probs.unsqueeze(1).expand(-1, x.size(1), -1)], dim=-1)\n",
        "\n",
        "        lstm_out, _ = self.lstm(x)\n",
        "        action_probs = F.softmax(self.fc(lstm_out[:, -1, :]), dim=-1)\n",
        "        return action_probs\n",
        "\n",
        "class LowLevelPolicy(nn.Module):\n",
        "    def __init__(self, input_dim, hidden_dim, output_dim):\n",
        "        super(LowLevelPolicy, self).__init__()\n",
        "        self.lstm = nn.LSTM(input_dim + output_dim, hidden_dim, batch_first=True)\n",
        "        self.fc = nn.Linear(hidden_dim, output_dim)\n",
        "\n",
        "    def forward(self, x, prev_action_probs):\n",
        "        #combine the state with the previous action probabilities\n",
        "        x = torch.cat([x, prev_action_probs.unsqueeze(1).expand(-1, x.size(1), -1)], dim=-1)\n",
        "\n",
        "        lstm_out, _ = self.lstm(x)\n",
        "        action_probs = F.softmax(self.fc(lstm_out[:, -1, :]), dim=-1)\n",
        "        return action_probs\n",
        "\n",
        "\n",
        "high_policy = HighLevelPolicy(input_dim=24, hidden_dim=128, output_dim=len(env.ACTIONS))\n",
        "low_policy = LowLevelPolicy(input_dim=24, hidden_dim=128, output_dim=len(env.ACTIONS))\n",
        "\n",
        "high_opt = optim.Adam(high_policy.parameters(), lr=.2)\n",
        "low_opt = optim.Adam(low_policy.parameters(), lr=.2)\n",
        "\n",
        "rewards_over_time = []\n",
        "\n",
        "#training loop, can edit the number of episodes\n",
        "for episode in range(1000):\n",
        "    env = RogueEnv(max_steps=100, config_dict=CONFIG)\n",
        "    state = env.reset()\n",
        "    total_reward = 0\n",
        "    prev_high_action_probs = torch.zeros(1, len(env.ACTIONS))\n",
        "    prev_low_action_probs = torch.zeros(1, len(env.ACTIONS))\n",
        "    need_to_update = False\n",
        "    result_matrix = process_strings_to_matrix(state.dungeon)\n",
        "    one_hot_matrix = symbols_to_one_hot(result_matrix,symbol_to_index)\n",
        "\n",
        "    while not state.is_terminal:\n",
        "\n",
        "        already_ran = False\n",
        "\n",
        "        #high-level policy\n",
        "        high_action_probs = high_policy(torch.from_numpy(one_hot_matrix).float().unsqueeze(0), prev_high_action_probs)\n",
        "\n",
        "        #get action from the probabilites from high-level policy\n",
        "        high_action = torch.multinomial(high_action_probs, 1).item()\n",
        "\n",
        "\n",
        "        #check if gold is near, if not then use high action\n",
        "        if is_player_near_gold(result_matrix):\n",
        "            if need_to_update == False:\n",
        "              need_to_update = True\n",
        "\n",
        "\n",
        "            #update high-level action probabilities\n",
        "            prev_high_action_probs = high_action_probs.detach().clone()\n",
        "\n",
        "            #low-level policy\n",
        "            low_action_probs = low_policy(torch.from_numpy(one_hot_matrix).float().unsqueeze(0), prev_low_action_probs)\n",
        "\n",
        "            #get action from the probabilites from low-level policy\n",
        "            try:\n",
        "              low_action = torch.multinomial(low_action_probs, 1).item()\n",
        "            except RuntimeError:\n",
        "              already_ran = True\n",
        "              low_action = 0\n",
        "\n",
        "            #if low policy is 0, meaning '.' which is no operation, ignore it and go to high action\n",
        "            if low_action == 0:\n",
        "              next_state, reward, done, info = env.step(env.ACTIONS[high_action])\n",
        "              total_reward += reward\n",
        "            else:\n",
        "              next_state, reward, done, info = env.step(env.ACTIONS[low_action])\n",
        "              total_reward += reward\n",
        "\n",
        "            #update low-level action probabilities\n",
        "            prev_low_action_probs = low_action_probs.detach().clone()\n",
        "\n",
        "        else:\n",
        "          #if gold was checked and high level policy wasn't executed, then continue\n",
        "          if already_ran:\n",
        "            continue\n",
        "          #no gold present then do high action\n",
        "          else:\n",
        "            next_state, reward, done, info = env.step(env.ACTIONS[high_action])\n",
        "            total_reward += reward\n",
        "\n",
        "        state = next_state\n",
        "        result_matrix = process_strings_to_matrix(state.dungeon)\n",
        "        one_hot_matrix = symbols_to_one_hot(result_matrix,symbol_to_index)\n",
        "\n",
        "    rewards_over_time.append(total_reward)\n",
        "\n",
        "    #update the high-level policy\n",
        "    high_advantage = total_reward\n",
        "    high_loss = -torch.log(high_action_probs[0, high_action]) * high_advantage\n",
        "    high_opt.zero_grad()\n",
        "    high_loss.backward()\n",
        "    high_opt.step()\n",
        "\n",
        "    #update the low-level policy\n",
        "    if need_to_update:\n",
        "      low_advantage = total_reward\n",
        "      low_loss = -torch.log(low_action_probs[0, low_action]) * low_advantage\n",
        "      low_opt.zero_grad()\n",
        "      low_loss.backward()\n",
        "      low_opt.step()\n",
        "      need_to_update = False\n"
      ],
      "metadata": {
        "id": "YM-LiMdTFo3I",
        "colab": {
          "base_uri": "https://localhost:8080/"
        },
        "outputId": "74515ddf-ada1-4850-d435-30c74bde1ea7"
      },
      "execution_count": 20,
      "outputs": [
        {
          "output_type": "stream",
          "name": "stderr",
          "text": [
            "/usr/local/lib/python3.10/dist-packages/ipykernel/ipkernel.py:283: DeprecationWarning: `should_run_async` will not call `transform_cell` automatically in the future. Please pass the result to `transformed_cell` argument and any exception that happen during thetransform in `preprocessing_exc_tuple` in IPython 7.17 and above.\n",
            "  and should_run_async(code)\n"
          ]
        }
      ]
    },
    {
      "cell_type": "code",
      "source": [
        "import matplotlib.pyplot as plt\n",
        "\n",
        "episodes = list(range(1, len(rewards_over_time) + 1))\n",
        "\n",
        "plt.figure(figsize=(10, 6))\n",
        "plt.scatter(episodes, rewards_over_time, marker='o', color='b', label='Rewards')\n",
        "plt.axhline(0, color='black', linestyle='--', linewidth=0.8, label='Zero Reward')\n",
        "\n",
        "plt.title('Rewards Over Time')\n",
        "plt.xlabel('Episode')\n",
        "plt.ylabel('Reward')\n",
        "\n",
        "plt.legend()\n",
        "plt.show()\n"
      ],
      "metadata": {
        "colab": {
          "base_uri": "https://localhost:8080/",
          "height": 564
        },
        "id": "L_UJMbictoae",
        "outputId": "262f49e2-fbd5-43e8-cdd7-03b5b012a90e"
      },
      "execution_count": 21,
      "outputs": [
        {
          "output_type": "display_data",
          "data": {
            "text/plain": [
              "<Figure size 1000x600 with 1 Axes>"
            ],
            "image/png": "[encoded data removed]"
          },
          "metadata": {}
        }
      ]
    }
  ]
}