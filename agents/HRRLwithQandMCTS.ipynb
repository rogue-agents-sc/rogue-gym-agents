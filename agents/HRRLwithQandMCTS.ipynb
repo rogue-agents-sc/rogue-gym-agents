{
  "nbformat": 4,
  "nbformat_minor": 0,
  "metadata": {
    "colab": {
      "provenance": []
    },
    "kernelspec": {
      "name": "python3",
      "display_name": "Python 3"
    },
    "language_info": {
      "name": "python"
    }
  },
  "cells": [
    {
      "cell_type": "code",
      "execution_count": 2,
      "metadata": {
        "colab": {
          "base_uri": "https://localhost:8080/"
        },
        "id": "fbvzN1fXRmPL",
        "outputId": "61eb3c5b-93d2-4bb2-d9c1-4a3f7704eaf8"
      },
      "outputs": [
        {
          "output_type": "stream",
          "name": "stdout",
          "text": [
            "Mounted at /content/drive\n"
          ]
        }
      ],
      "source": [
        "from google.colab import drive\n",
        "drive.mount('/content/drive')"
      ]
    },
    {
      "cell_type": "code",
      "source": [
        "!mkdir -p /root/.ssh/\n",
        "!cp /content/drive/Shareddrives/CSCI\\ 567:\\ ML/deploy_keys/id_ed25519* /root/.ssh\n",
        "!ssh-keyscan github.com >> /root/.ssh/known_hosts\n",
        "!ssh -T git@github.com"
      ],
      "metadata": {
        "colab": {
          "base_uri": "https://localhost:8080/"
        },
        "id": "_wMDSHuARrEd",
        "outputId": "24342346-3ca2-4638-c467-b60a55868976"
      },
      "execution_count": 3,
      "outputs": [
        {
          "output_type": "stream",
          "name": "stdout",
          "text": [
            "# github.com:22 SSH-2.0-babeld-756a9a22\n",
            "# github.com:22 SSH-2.0-babeld-756a9a22\n",
            "# github.com:22 SSH-2.0-babeld-756a9a22\n",
            "# github.com:22 SSH-2.0-babeld-756a9a22\n",
            "# github.com:22 SSH-2.0-babeld-756a9a22\n",
            "Hi rogue-agents-sc/rogue-gym! You've successfully authenticated, but GitHub does not provide shell access.\n"
          ]
        }
      ]
    },
    {
      "cell_type": "code",
      "source": [
        "!pip install /content/drive/Shareddrives/CSCI\\ 567:\\ ML/rogue-gym/rogue_gym-0.0.2-cp310-cp310-linux_x86_64.whl"
      ],
      "metadata": {
        "colab": {
          "base_uri": "https://localhost:8080/"
        },
        "id": "Ig8SGjPwRsn9",
        "outputId": "92ee73c2-f926-46c7-a7c4-66dee72f33d5"
      },
      "execution_count": 4,
      "outputs": [
        {
          "output_type": "stream",
          "name": "stdout",
          "text": [
            "Processing ./drive/Shareddrives/CSCI 567: ML/rogue-gym/rogue_gym-0.0.2-cp310-cp310-linux_x86_64.whl\n",
            "Requirement already satisfied: numpy in /usr/local/lib/python3.10/dist-packages (from rogue-gym==0.0.2) (1.23.5)\n",
            "Requirement already satisfied: gym in /usr/local/lib/python3.10/dist-packages (from rogue-gym==0.0.2) (0.25.2)\n",
            "Requirement already satisfied: cloudpickle>=1.2.0 in /usr/local/lib/python3.10/dist-packages (from gym->rogue-gym==0.0.2) (2.2.1)\n",
            "Requirement already satisfied: gym-notices>=0.0.4 in /usr/local/lib/python3.10/dist-packages (from gym->rogue-gym==0.0.2) (0.0.8)\n",
            "Installing collected packages: rogue-gym\n",
            "Successfully installed rogue-gym-0.0.2\n"
          ]
        }
      ]
    },
    {
      "cell_type": "code",
      "source": [
        "def process_strings_to_matrix(string_list):\n",
        "    max_length = max(len(s) for s in string_list)\n",
        "    matrix = [[' ' for _ in range(max_length)] for _ in range(len(string_list))]\n",
        "\n",
        "    for i, s in enumerate(string_list):\n",
        "        for j, char in enumerate(s):\n",
        "            matrix[i][j] = char\n",
        "\n",
        "    return matrix"
      ],
      "metadata": {
        "id": "dkTPfn3uaRyu"
      },
      "execution_count": 37,
      "outputs": []
    },
    {
      "cell_type": "code",
      "source": [
        "def is_player_in_dungeon(matrix, player_symbol= '@'):\n",
        "    dungeon_boundaries = []\n",
        "    for i, row in enumerate(matrix):\n",
        "        for j, element in enumerate(row):\n",
        "            if element == '-' or element == '|':\n",
        "                dungeon_boundaries.append((i, j))\n",
        "\n",
        "\n",
        "    for i, row in enumerate(matrix):\n",
        "        for j, element in enumerate(row):\n",
        "            if element == player_symbol:\n",
        "                if not any(start_i <= i <= end_i and start_j <= j <= end_j for (start_i, start_j) in dungeon_boundaries for (end_i, end_j) in dungeon_boundaries):\n",
        "                    return False\n",
        "                break\n",
        "\n",
        "    return True"
      ],
      "metadata": {
        "id": "1q2ifgsXaVFY"
      },
      "execution_count": 38,
      "outputs": []
    },
    {
      "cell_type": "code",
      "source": [
        "def is_player_near_gold(matrix, player_symbol = '@', gold_symbol = '*'):\n",
        "    dungeon_boundaries = []\n",
        "    for i, row in enumerate(matrix):\n",
        "        for j, element in enumerate(row):\n",
        "            if element == '-' or element == '|':\n",
        "                dungeon_boundaries.append((i, j))\n",
        "\n",
        "    player_found = False\n",
        "    gold_found = False\n",
        "    for i, row in enumerate(matrix):\n",
        "        for j, element in enumerate(row):\n",
        "            if element == player_symbol:\n",
        "                player_found = True\n",
        "            elif element == gold_symbol:\n",
        "                gold_found = True\n",
        "\n",
        "            if player_found and gold_found:\n",
        "                break\n",
        "\n",
        "    return player_found and gold_found"
      ],
      "metadata": {
        "id": "P1O-fMesaZDu"
      },
      "execution_count": 39,
      "outputs": []
    },
    {
      "cell_type": "code",
      "source": [
        "def is_player_near_downstairs(matrix, player_symbol = '@', gold_symbol = '%'):\n",
        "    dungeon_boundaries = []\n",
        "    for i, row in enumerate(matrix):\n",
        "        for j, element in enumerate(row):\n",
        "            if element == '-' or element == '|':\n",
        "                dungeon_boundaries.append((i, j))\n",
        "\n",
        "    player_found = False\n",
        "    gold_found = False\n",
        "    for i, row in enumerate(matrix):\n",
        "        for j, element in enumerate(row):\n",
        "            if element == player_symbol:\n",
        "                player_found = True\n",
        "            elif element == gold_symbol:\n",
        "                gold_found = True\n",
        "\n",
        "            if player_found and gold_found:\n",
        "                break\n",
        "\n",
        "    return player_found and gold_found"
      ],
      "metadata": {
        "id": "DP80W-M4adas"
      },
      "execution_count": 40,
      "outputs": []
    },
    {
      "cell_type": "code",
      "source": [
        "def find_player_dungeon(matrix, player_symbol,player_i, player_j):\n",
        "    dungeon_boundaries = []\n",
        "    for i, row in enumerate(matrix):\n",
        "        for j, element in enumerate(row):\n",
        "            if element == '-' or element == '|':\n",
        "                dungeon_boundaries.append((i, j))\n",
        "\n",
        "    for start_i, start_j in dungeon_boundaries:\n",
        "        end_i, end_j = dungeon_boundaries[-1]\n",
        "        if start_i <= player_i <= end_i and start_j <= player_j <= end_j:\n",
        "            return start_i, start_j, end_i, end_j\n",
        "\n",
        "def doors_within_dungeon(result_matrix, player_symbol = '@', door_symbol = '+'):\n",
        "  player_i, player_j = None, None\n",
        "  for i, row in enumerate(result_matrix):\n",
        "      for j, element in enumerate(row):\n",
        "          if element == player_symbol:\n",
        "              player_i, player_j = i, j\n",
        "              break\n",
        "\n",
        "  player_dungeon_boundaries = find_player_dungeon(result_matrix, player_symbol,player_i, player_j)\n",
        "  if player_dungeon_boundaries is not None:\n",
        "      start_i, start_j, end_i, end_j = player_dungeon_boundaries\n",
        "      for i in range(start_i, end_i + 1):\n",
        "          if result_matrix[i][start_j] == door_symbol or result_matrix[i][end_j] == door_symbol:\n",
        "              return True\n",
        "\n",
        "      for j in range(start_j, end_j + 1):\n",
        "          if result_matrix[start_i][j] == door_symbol or result_matrix[end_i][j] == door_symbol:\n",
        "              return True\n",
        "\n",
        "  return False"
      ],
      "metadata": {
        "id": "VbY-SJLGgTbk"
      },
      "execution_count": 41,
      "outputs": []
    },
    {
      "cell_type": "code",
      "source": [
        "def q_value_approximation(result_matrix, weights, player_location,downstairs_location, new_level):\n",
        "    in_dungeon = 1 if is_player_in_dungeon(result_matrix) else 0\n",
        "    in_passage = 0 if in_dungeon == 1 else 1\n",
        "    door_pathway_present = 1 if doors_within_dungeon(result_matrix) else 0\n",
        "    downstairs_present = 1 if is_player_near_downstairs(result_matrix) else 0\n",
        "    on_downstairs_symbol = 1 if player_location == downstairs_location else 0\n",
        "    gold_present = 1 if is_player_near_gold(result_matrix) else 0\n",
        "    new_level = 1 if True else 0\n",
        "\n",
        "\n",
        "    q_value = (\n",
        "        weights['in_dungeon'] * in_dungeon +\n",
        "        weights['in_passage'] * in_passage +\n",
        "        weights['door_pathway_present'] * door_pathway_present +\n",
        "        weights['downstairs_present'] * downstairs_present +\n",
        "        weights['on_downstairs_symbol'] * on_downstairs_symbol +\n",
        "        weights['gold_present'] * gold_present +\n",
        "        weights['new_level'] * new_level\n",
        "    )\n",
        "\n",
        "    return q_value\n",
        "\n",
        "def initialize_weights(binary_features):\n",
        "    return {feature: random.uniform(0, 1) for feature in binary_features}"
      ],
      "metadata": {
        "id": "W7MTAZBJq4Pi"
      },
      "execution_count": 42,
      "outputs": []
    },
    {
      "cell_type": "code",
      "source": [
        "def egreedy_selection(grades,epsilon):\n",
        "  if random.randint(1,100) <= epsilon:\n",
        "    state = random.choice(grades)\n",
        "    return state\n",
        "  else:\n",
        "    max_grade = max(grades, key=lambda x: x[1])[1]\n",
        "    states_check = [state for state, grade in grades if grade == max_grade]\n",
        "    state = random.choice(states_check)\n",
        "\n",
        "  return (state,max_grade)"
      ],
      "metadata": {
        "id": "LZ3bclm6KGN8"
      },
      "execution_count": 43,
      "outputs": []
    },
    {
      "cell_type": "code",
      "source": [
        "def calculate_td_error(reward,predicted_q,next_q, discount):\n",
        "  return reward + (next_q * discount) - predicted_q"
      ],
      "metadata": {
        "id": "RVIAagmwX4Yn"
      },
      "execution_count": 44,
      "outputs": []
    },
    {
      "cell_type": "code",
      "source": [
        "def update_weights(weights, td_error, learning_rate):\n",
        "    updated_weights = {}\n",
        "\n",
        "    for feature, weight in weights.items():\n",
        "        updated_weight = weight + learning_rate * td_error\n",
        "        updated_weights[feature] = updated_weight\n",
        "\n",
        "    return updated_weights\n"
      ],
      "metadata": {
        "id": "FrXGBYjVP5Us"
      },
      "execution_count": 45,
      "outputs": []
    },
    {
      "cell_type": "code",
      "source": [
        "def find_symbol_numpy(matrix, symbol):\n",
        "    matrix_np = np.array(matrix)\n",
        "    indices = np.where(matrix_np == symbol)\n",
        "    if len(indices[0]) > 0:\n",
        "        return list(zip(indices[0], indices[1]))[0]\n",
        "    else:\n",
        "        return None"
      ],
      "metadata": {
        "id": "L03WpaoIyidF"
      },
      "execution_count": 46,
      "outputs": []
    },
    {
      "cell_type": "code",
      "source": [
        "class Node:\n",
        "    def __init__(self, state, reward, done, previous_moves, parent=None, action_to_reach=None):\n",
        "        self.state = state\n",
        "        self.reward = reward\n",
        "        self.done = done\n",
        "        self.previous_moves = previous_moves\n",
        "        self.children = []\n",
        "        self.visits = 0\n",
        "        self.value = 0\n",
        "        self.parent = parent\n",
        "        self.action_to_reach = action_to_reach\n",
        "\n",
        "    def add_child(self, child):\n",
        "        child.parent = self\n",
        "        self.children.append(child)\n",
        "\n",
        "def UCT(node):\n",
        "    return node.value / node.visits + np.sqrt(2 * np.log(node.parent.visits) / node.visits)\n",
        "\n",
        "def select(node):\n",
        "    if not node.children:\n",
        "        return node\n",
        "    else:\n",
        "        return max(node.children, key=UCT)\n",
        "\n",
        "def expand(node, env):\n",
        "    for action in env.ACTIONS:\n",
        "        if action == '.':\n",
        "          continue\n",
        "        env = RogueEnv(max_steps=1000000000000, config_dict=CONFIG)\n",
        "        env.reset()\n",
        "        for move in node.previous_moves:\n",
        "            env.step(move)\n",
        "        state, reward, done, _ = env.step(action)\n",
        "        child = Node(state, reward, done, node.previous_moves + [action], node, action)\n",
        "        node.add_child(child)\n",
        "\n",
        "def simulate(node, env, num_rounds=15):\n",
        "    for _ in range(num_rounds):\n",
        "        filtered_actions = [action for action in env.ACTIONS if action != '.']\n",
        "        action = np.random.choice(filtered_actions)\n",
        "\n",
        "        state, reward, done, _ = env.step(action)\n",
        "        node = Node(state, reward, done, node.previous_moves + [action], node.parent, action)\n",
        "        if done:\n",
        "            break\n",
        "    return node.reward\n",
        "\n",
        "def backpropagate(node, reward):\n",
        "    node.visits += 1\n",
        "    node.value += reward\n",
        "    if node.parent is not None:\n",
        "        backpropagate(node.parent, reward)\n",
        "\n",
        "def MCTS(root, env, iterations):\n",
        "    for _ in range(iterations):\n",
        "        node = select(root)\n",
        "\n",
        "        expand(node, env)\n",
        "\n",
        "        for child in node.children:\n",
        "            reward = simulate(child, env)\n",
        "            backpropagate(child, reward)\n",
        "    return max(root.children, key=lambda node: node.value / node.visits).action_to_reach"
      ],
      "metadata": {
        "id": "MX6MdaIpH77m"
      },
      "execution_count": 47,
      "outputs": []
    },
    {
      "cell_type": "code",
      "source": [
        "def get_most_promising_path(root):\n",
        "    node = root\n",
        "    path = []\n",
        "    while node.children:\n",
        "        best_child = max(node.children, key=lambda child: child.value / child.visits)\n",
        "        path.append(best_child.action_to_reach)\n",
        "        node = best_child\n",
        "    return path"
      ],
      "metadata": {
        "id": "kspX7vi9JkeF"
      },
      "execution_count": 48,
      "outputs": []
    },
    {
      "cell_type": "code",
      "source": [
        "from rogue_gym.envs import RogueEnv\n",
        "import numpy as np\n",
        "import random\n",
        "\n",
        "CONFIG = {\n",
        "    \"width\": 32,\n",
        "    \"height\": 16,\n",
        "    \"seed\": 1,\n",
        "    \"hide_dungeon\": True,\n",
        "    \"dungeon\": {\n",
        "        \"style\": \"rogue\",\n",
        "        \"room_num_x\": 2,\n",
        "        \"room_num_y\": 2,\n",
        "    },\n",
        "    \"enemies\": {\n",
        "        \"enemies\": [],\n",
        "    },\n",
        "}\n",
        "\n",
        "env = RogueEnv(max_steps=1000000000000, config_dict=CONFIG)\n",
        "state = env.reset()\n",
        "\n",
        "total_reward_list = []\n",
        "result_matrix = process_strings_to_matrix(state.dungeon)\n",
        "\n",
        "binary_features = ['in_dungeon', 'in_passage', 'door_pathway_present', 'downstairs_present', 'on_downstairs_symbol', 'gold_present','new_level']\n",
        "epsilon = 10\n",
        "learning_rate = 0.4\n",
        "discount = 0.4\n",
        "\n",
        "\n",
        "weights = initialize_weights(binary_features)\n",
        "\n",
        "for episode in range(100):\n",
        "  seed = random.randint(0,40)\n",
        "  CONFIG[\"seed\"] = seed\n",
        "  env = RogueEnv(max_steps=1000000000000, config_dict=CONFIG)\n",
        "  state = env.reset()\n",
        "  previous_moves = []\n",
        "  rewards = 0\n",
        "\n",
        "  for x in range(0,100,2):\n",
        "    q_value_scores = []\n",
        "    result_matrix = process_strings_to_matrix(state.dungeon)\n",
        "    player_location = find_symbol_numpy(result_matrix,'@')\n",
        "    downstairs_location = find_symbol_numpy(result_matrix,'%')\n",
        "    current_level = state.status['dungeon_level']\n",
        "    new_level = False\n",
        "\n",
        "    if x == 98:\n",
        "      #get the q value for each move\n",
        "\n",
        "      #move right up\n",
        "      state,reward,done,_ = env.step('u')\n",
        "      result_matrix = process_strings_to_matrix(state.dungeon)\n",
        "      score = q_value_approximation(result_matrix,weights,player_location,downstairs_location,new_level)\n",
        "      q_value_scores.append(('u',score))\n",
        "      state,reward,done,_ = env.step('b')\n",
        "\n",
        "      #move left down\n",
        "      state,reward,done,_ = env.step('b')\n",
        "      result_matrix = process_strings_to_matrix(state.dungeon)\n",
        "      score = q_value_approximation(result_matrix,weights,player_location,downstairs_location,new_level)\n",
        "      q_value_scores.append(('b',score))\n",
        "      state,reward,done,_ = env.step('u')\n",
        "\n",
        "      #move down\n",
        "      state,reward,done,_ = env.step('j')\n",
        "      result_matrix = process_strings_to_matrix(state.dungeon)\n",
        "      score = q_value_approximation(result_matrix,weights,player_location,downstairs_location,new_level)\n",
        "      q_value_scores.append(('j',score))\n",
        "      state,reward,done,_ = env.step('k')\n",
        "\n",
        "      #move up\n",
        "      state,reward,done,_ = env.step('k')\n",
        "      result_matrix = process_strings_to_matrix(state.dungeon)\n",
        "      score = q_value_approximation(result_matrix,weights,player_location,downstairs_location,new_level)\n",
        "      q_value_scores.append(('k',score))\n",
        "      state,reward,done,_ = env.step('j')\n",
        "\n",
        "      #move left\n",
        "      state,reward,done,_ = env.step('h')\n",
        "      result_matrix = process_strings_to_matrix(state.dungeon)\n",
        "      score = q_value_approximation(result_matrix,weights,player_location,downstairs_location,new_level)\n",
        "      q_value_scores.append(('h',score))\n",
        "      state,reward,done,_ = env.step('l')\n",
        "\n",
        "      #move right\n",
        "      state,reward,done,_ = env.step('l')\n",
        "      result_matrix = process_strings_to_matrix(state.dungeon)\n",
        "      score = q_value_approximation(result_matrix,weights,player_location,downstairs_location,new_level)\n",
        "      q_value_scores.append(('l',score))\n",
        "      state,reward,done,_ = env.step('h')\n",
        "\n",
        "      #move left up\n",
        "      state,reward,done,_ = env.step('y')\n",
        "      result_matrix = process_strings_to_matrix(state.dungeon)\n",
        "      score = q_value_approximation(result_matrix,weights,player_location,downstairs_location,new_level)\n",
        "      q_value_scores.append(('y',score))\n",
        "      state,reward,done,_ = env.step('n')\n",
        "\n",
        "      #move right down\n",
        "      state,reward,done,_ = env.step('n')\n",
        "      result_matrix = process_strings_to_matrix(state.dungeon)\n",
        "      score = q_value_approximation(result_matrix,weights,player_location,downstairs_location,new_level)\n",
        "      q_value_scores.append(('n',score))\n",
        "      state,reward,done,_ = env.step('y')\n",
        "\n",
        "      #search\n",
        "      state,reward,done,_ = env.step('s')\n",
        "      result_matrix = process_strings_to_matrix(state.dungeon)\n",
        "      score = q_value_approximation(result_matrix,weights,player_location,downstairs_location,new_level)\n",
        "      q_value_scores.append(('s',score))\n",
        "\n",
        "      #no operation\n",
        "      #state,reward,done,_ = env.step('s')\n",
        "      #result_matrix = process_strings_to_matrix(state.dungeon)\n",
        "      #score = q_value_approximation(result_matrix,weights,player_location,downstairs_location,new_level)\n",
        "      #q_value_scores.append(('s',score))\n",
        "\n",
        "      #downstairs\n",
        "      current_level = state.status['dungeon_level']\n",
        "      state,reward,done,_ = env.step('>')\n",
        "      result_matrix = process_strings_to_matrix(state.dungeon)\n",
        "      if current_level != state.status['dungeon_level']:\n",
        "        new_level = True\n",
        "      score = q_value_approximation(result_matrix,weights,player_location,downstairs_location,new_level)\n",
        "      q_value_scores.append(('>',score))\n",
        "      if current_level != state.status['dungeon_level']:\n",
        "        env = RogueEnv(max_steps=1000000000000, config_dict=CONFIG)\n",
        "        state = env.reset()\n",
        "        if len(previous_moves) > 0:\n",
        "          for x in previous_moves:\n",
        "            state,reward,done,_ = env.step(x)\n",
        "\n",
        "      #do greedy selection to figure out next move and q value score for current state\n",
        "      desired_tuple = egreedy_selection(q_value_scores,epsilon)\n",
        "      desired_action = desired_tuple[0]\n",
        "      predicted_q_value_score = desired_tuple[1]\n",
        "\n",
        "      #update environment\n",
        "      state,reward,done,_ = env.step(desired_action)\n",
        "      previous_moves.append(desired_action)\n",
        "      if rewards < reward:\n",
        "        rewards = reward\n",
        "\n",
        "      #feed into MCTS\n",
        "      root = Node(state,reward,done,previous_moves)\n",
        "      next_action = MCTS(root,env,20)\n",
        "\n",
        "      #update state based on MCTS best action\n",
        "      state,reward,done,_ = env.step(next_action)\n",
        "      previous_moves.append(next_action)\n",
        "      if rewards < reward:\n",
        "        rewards = reward\n",
        "      #update weights\n",
        "      result_matrix = process_strings_to_matrix(state.dungeon)\n",
        "      if current_level != state.status['dungeon_level']:\n",
        "        new_level = True\n",
        "      else:\n",
        "        new_level = False\n",
        "      max_predicted_q_score = q_value_approximation(result_matrix,weights,player_location,downstairs_location,new_level)\n",
        "\n",
        "      td_error = calculate_td_error(reward,predicted_q_value_score,max_predicted_q_score, discount)\n",
        "      weights = update_weights(weights, td_error, learning_rate)\n",
        "      total_reward_list.append(rewards)\n",
        "\n",
        "    else:\n",
        "\n",
        "      #get the q value for each move\n",
        "\n",
        "      #move right up\n",
        "      state,reward,done,_ = env.step('u')\n",
        "      result_matrix = process_strings_to_matrix(state.dungeon)\n",
        "      score = q_value_approximation(result_matrix,weights,player_location,downstairs_location,new_level)\n",
        "      q_value_scores.append(('u',score))\n",
        "      state,reward,done,_ = env.step('b')\n",
        "\n",
        "      #move left down\n",
        "      state,reward,done,_ = env.step('b')\n",
        "      result_matrix = process_strings_to_matrix(state.dungeon)\n",
        "      score = q_value_approximation(result_matrix,weights,player_location,downstairs_location,new_level)\n",
        "      q_value_scores.append(('b',score))\n",
        "      state,reward,done,_ = env.step('u')\n",
        "\n",
        "      #move down\n",
        "      state,reward,done,_ = env.step('j')\n",
        "      result_matrix = process_strings_to_matrix(state.dungeon)\n",
        "      score = q_value_approximation(result_matrix,weights,player_location,downstairs_location,new_level)\n",
        "      q_value_scores.append(('j',score))\n",
        "      state,reward,done,_ = env.step('k')\n",
        "\n",
        "      #move up\n",
        "      state,reward,done,_ = env.step('k')\n",
        "      result_matrix = process_strings_to_matrix(state.dungeon)\n",
        "      score = q_value_approximation(result_matrix,weights,player_location,downstairs_location,new_level)\n",
        "      q_value_scores.append(('k',score))\n",
        "      state,reward,done,_ = env.step('j')\n",
        "\n",
        "      #move left\n",
        "      state,reward,done,_ = env.step('h')\n",
        "      result_matrix = process_strings_to_matrix(state.dungeon)\n",
        "      score = q_value_approximation(result_matrix,weights,player_location,downstairs_location,new_level)\n",
        "      q_value_scores.append(('h',score))\n",
        "      state,reward,done,_ = env.step('l')\n",
        "\n",
        "      #move right\n",
        "      state,reward,done,_ = env.step('l')\n",
        "      result_matrix = process_strings_to_matrix(state.dungeon)\n",
        "      score = q_value_approximation(result_matrix,weights,player_location,downstairs_location,new_level)\n",
        "      q_value_scores.append(('l',score))\n",
        "      state,reward,done,_ = env.step('h')\n",
        "\n",
        "      #move left up\n",
        "      state,reward,done,_ = env.step('y')\n",
        "      result_matrix = process_strings_to_matrix(state.dungeon)\n",
        "      score = q_value_approximation(result_matrix,weights,player_location,downstairs_location,new_level)\n",
        "      q_value_scores.append(('y',score))\n",
        "      state,reward,done,_ = env.step('n')\n",
        "\n",
        "      #move right down\n",
        "      state,reward,done,_ = env.step('n')\n",
        "      result_matrix = process_strings_to_matrix(state.dungeon)\n",
        "      score = q_value_approximation(result_matrix,weights,player_location,downstairs_location,new_level)\n",
        "      q_value_scores.append(('n',score))\n",
        "      state,reward,done,_ = env.step('y')\n",
        "\n",
        "      #search\n",
        "      state,reward,done,_ = env.step('s')\n",
        "      result_matrix = process_strings_to_matrix(state.dungeon)\n",
        "      score = q_value_approximation(result_matrix,weights,player_location,downstairs_location,new_level)\n",
        "      q_value_scores.append(('s',score))\n",
        "\n",
        "      #no operation\n",
        "      #state,reward,done,_ = env.step('s')\n",
        "      #result_matrix = process_strings_to_matrix(state.dungeon)\n",
        "      #score = q_value_approximation(result_matrix,weights,player_location,downstairs_location,new_level)\n",
        "      #q_value_scores.append(('s',score))\n",
        "\n",
        "      #downstairs\n",
        "      current_level = state.status['dungeon_level']\n",
        "      state,reward,done,_ = env.step('>')\n",
        "      result_matrix = process_strings_to_matrix(state.dungeon)\n",
        "      if current_level != state.status['dungeon_level']:\n",
        "        new_level = True\n",
        "      score = q_value_approximation(result_matrix,weights,player_location,downstairs_location,new_level)\n",
        "      q_value_scores.append(('>',score))\n",
        "      if current_level != state.status['dungeon_level']:\n",
        "        env = RogueEnv(max_steps=1000000000000, config_dict=CONFIG)\n",
        "        state = env.reset()\n",
        "        if len(previous_moves) > 0:\n",
        "          for x in previous_moves:\n",
        "            state,reward,done,_ = env.step(x)\n",
        "\n",
        "      #do greedy selection to figure out next move\n",
        "      desired_tuple = egreedy_selection(q_value_scores,epsilon)\n",
        "      desired_action = desired_tuple[0]\n",
        "\n",
        "      #update environment\n",
        "      state,reward,done,_ = env.step(desired_action)\n",
        "      previous_moves.append(desired_action)\n",
        "\n",
        "      if rewards < reward:\n",
        "        rewards = reward\n",
        "\n",
        "      #feed into MCTS\n",
        "      root = Node(state,reward,done,previous_moves)\n",
        "      next_action = MCTS(root,env,20)\n",
        "\n",
        "      env = RogueEnv(max_steps=1000000000000, config_dict=CONFIG)\n",
        "      state = env.reset()\n",
        "      if len(previous_moves) > 0:\n",
        "        for x in previous_moves:\n",
        "          state,reward,done,_ = env.step(x)\n",
        "\n",
        "      #update state based on MCTS best action\n",
        "      state,reward,done,_ = env.step(next_action)\n",
        "\n",
        "      previous_moves.append(next_action)\n",
        "      if rewards < reward:\n",
        "        rewards = reward\n"
      ],
      "metadata": {
        "id": "KJwZ1Wo5cMyK"
      },
      "execution_count": 52,
      "outputs": []
    },
    {
      "cell_type": "code",
      "source": [
        "import matplotlib.pyplot as plt\n",
        "\n",
        "episodes = list(range(1, len(total_reward_list) + 1))\n",
        "\n",
        "plt.figure(figsize=(10, 6))\n",
        "plt.scatter(episodes, total_reward_list, marker='o', color='b', label='Rewards')\n",
        "plt.axhline(0, color='black', linestyle='--', linewidth=0.8, label='Zero Reward')\n",
        "\n",
        "plt.title('Rewards Over Time')\n",
        "plt.xlabel('Episode')\n",
        "plt.ylabel('Reward')\n",
        "\n",
        "plt.legend()\n",
        "plt.show()"
      ],
      "metadata": {
        "colab": {
          "base_uri": "https://localhost:8080/",
          "height": 564
        },
        "id": "ZgSukEsi6ViV",
        "outputId": "f4a343a6-cfc6-4c03-c923-68644f11b596"
      },
      "execution_count": 53,
      "outputs": [
        {
          "output_type": "display_data",
          "data": {
            "text/plain": [
              "<Figure size 1000x600 with 1 Axes>"
            ],
            "image/png": "[encoded data removed]"
          },
          "metadata": {}
        }
      ]
    },
    {
      "cell_type": "code",
      "source": [
        "import matplotlib.pyplot as plt\n",
        "import numpy as np\n",
        "\n",
        "def running_mean(x, N):\n",
        "    cumsum = np.cumsum(np.insert(x, 0, 0))\n",
        "    return (cumsum[N:] - cumsum[:-N]) / float(N)\n",
        "\n",
        "window_size = 5\n",
        "\n",
        "mean_rewards = running_mean(total_reward_list, window_size)\n",
        "\n",
        "# Plotting\n",
        "plt.plot(mean_rewards)\n",
        "plt.xlabel('Episode')\n",
        "plt.ylabel('Reward Mean')\n",
        "plt.title('Reward Mean Over Episodes')\n",
        "plt.show()\n"
      ],
      "metadata": {
        "colab": {
          "base_uri": "https://localhost:8080/",
          "height": 472
        },
        "id": "u94ZhOiqnkVG",
        "outputId": "982b516b-ba47-4b34-9e2f-ce446369372b"
      },
      "execution_count": 63,
      "outputs": [
        {
          "output_type": "display_data",
          "data": {
            "text/plain": [
              "<Figure size 640x480 with 1 Axes>"
            ],
            "image/png": "[encoded data removed]"
          },
          "metadata": {}
        }
      ]
    }
  ]
}